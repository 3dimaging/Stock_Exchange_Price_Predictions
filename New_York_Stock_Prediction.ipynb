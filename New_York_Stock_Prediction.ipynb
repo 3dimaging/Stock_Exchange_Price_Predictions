{
 "cells": [
  {
   "cell_type": "code",
   "execution_count": 1,
   "metadata": {
    "collapsed": true
   },
   "outputs": [],
   "source": [
    "import pandas as pd\n",
    "import math\n",
    "import numpy as py\n",
    "from sklearn import preprocessing\n",
    "from sklearn.linear_model import LinearRegression \n",
    "from sklearn.model_selection import train_test_split\n",
    "import matplotlib.pyplot as wl\n"
   ]
  },
  {
   "cell_type": "code",
   "execution_count": 2,
   "metadata": {},
   "outputs": [
    {
     "data": {
      "text/html": [
       "<div>\n",
       "<style>\n",
       "    .dataframe thead tr:only-child th {\n",
       "        text-align: right;\n",
       "    }\n",
       "\n",
       "    .dataframe thead th {\n",
       "        text-align: left;\n",
       "    }\n",
       "\n",
       "    .dataframe tbody tr th {\n",
       "        vertical-align: top;\n",
       "    }\n",
       "</style>\n",
       "<table border=\"1\" class=\"dataframe\">\n",
       "  <thead>\n",
       "    <tr style=\"text-align: right;\">\n",
       "      <th></th>\n",
       "      <th>date</th>\n",
       "      <th>symbol</th>\n",
       "      <th>open</th>\n",
       "      <th>close</th>\n",
       "      <th>low</th>\n",
       "      <th>high</th>\n",
       "      <th>volume</th>\n",
       "    </tr>\n",
       "  </thead>\n",
       "  <tbody>\n",
       "    <tr>\n",
       "      <th>0</th>\n",
       "      <td>04-01-2010</td>\n",
       "      <td>A</td>\n",
       "      <td>22.453504</td>\n",
       "      <td>22.389128</td>\n",
       "      <td>22.267525</td>\n",
       "      <td>22.625180</td>\n",
       "      <td>3815500</td>\n",
       "    </tr>\n",
       "    <tr>\n",
       "      <th>1</th>\n",
       "      <td>05-01-2010</td>\n",
       "      <td>A</td>\n",
       "      <td>22.324749</td>\n",
       "      <td>22.145923</td>\n",
       "      <td>22.002861</td>\n",
       "      <td>22.331903</td>\n",
       "      <td>4186000</td>\n",
       "    </tr>\n",
       "    <tr>\n",
       "      <th>2</th>\n",
       "      <td>06-01-2010</td>\n",
       "      <td>A</td>\n",
       "      <td>22.067240</td>\n",
       "      <td>22.067240</td>\n",
       "      <td>22.002861</td>\n",
       "      <td>22.174536</td>\n",
       "      <td>3243700</td>\n",
       "    </tr>\n",
       "    <tr>\n",
       "      <th>3</th>\n",
       "      <td>07-01-2010</td>\n",
       "      <td>A</td>\n",
       "      <td>22.017168</td>\n",
       "      <td>22.038626</td>\n",
       "      <td>21.816881</td>\n",
       "      <td>22.045780</td>\n",
       "      <td>3095100</td>\n",
       "    </tr>\n",
       "    <tr>\n",
       "      <th>4</th>\n",
       "      <td>08-01-2010</td>\n",
       "      <td>A</td>\n",
       "      <td>21.917024</td>\n",
       "      <td>22.031474</td>\n",
       "      <td>21.745350</td>\n",
       "      <td>22.067240</td>\n",
       "      <td>3733900</td>\n",
       "    </tr>\n",
       "  </tbody>\n",
       "</table>\n",
       "</div>"
      ],
      "text/plain": [
       "         date symbol       open      close        low       high   volume\n",
       "0  04-01-2010      A  22.453504  22.389128  22.267525  22.625180  3815500\n",
       "1  05-01-2010      A  22.324749  22.145923  22.002861  22.331903  4186000\n",
       "2  06-01-2010      A  22.067240  22.067240  22.002861  22.174536  3243700\n",
       "3  07-01-2010      A  22.017168  22.038626  21.816881  22.045780  3095100\n",
       "4  08-01-2010      A  21.917024  22.031474  21.745350  22.067240  3733900"
      ]
     },
     "execution_count": 2,
     "metadata": {},
     "output_type": "execute_result"
    }
   ],
   "source": [
    "price_data=pd.read_csv('F:/Final_Project/Course_Study/Time_series_dataset/prices.csv') \n",
    "price_data.head()\n"
   ]
  },
  {
   "cell_type": "code",
   "execution_count": 3,
   "metadata": {},
   "outputs": [
    {
     "name": "stdout",
     "output_type": "stream",
     "text": [
      "             date symbol       open      close        low       high  volume\n",
      "54654  04-01-2010    AMG  67.959999  68.879997  67.879997  69.059998  306100\n",
      "54655  05-01-2010    AMG  68.779999  69.430000  68.269997  69.500000  324600\n",
      "54656  06-01-2010    AMG  69.209999  70.790001  69.209999  71.470001  486200\n",
      "54657  07-01-2010    AMG  70.449997  70.470001  69.970001  71.040001  434000\n",
      "54658  08-01-2010    AMG  70.040001  69.820000  69.309998  70.690002  382800\n"
     ]
    }
   ],
   "source": [
    "price_data=price_data.loc[price_data['symbol'] == 'AMG']\n",
    "print(price_data.head())"
   ]
  },
  {
   "cell_type": "code",
   "execution_count": 4,
   "metadata": {},
   "outputs": [
    {
     "name": "stdout",
     "output_type": "stream",
     "text": [
      "18\n"
     ]
    }
   ],
   "source": [
    "forecast_col = 'close'\n",
    "price_data.fillna(value=-99999, inplace=True)\n",
    "forecast_out = int(math.ceil(0.01 * len(price_data)))\n",
    "print(forecast_out)\n",
    "forecast_length = forecast_out\n",
    "price_data['label'] = price_data[forecast_col].shift(-forecast_out)"
   ]
  },
  {
   "cell_type": "code",
   "execution_count": 5,
   "metadata": {},
   "outputs": [
    {
     "name": "stdout",
     "output_type": "stream",
     "text": [
      "X: 1744\n",
      "Y: 1744\n"
     ]
    }
   ],
   "source": [
    "X=py.array(price_data.drop(['label','symbol','date'],axis=1))\n",
    "X = X[:-forecast_out]\n",
    "X = preprocessing.scale(X)\n",
    "X_lately = X[-forecast_out:]\n",
    "\n",
    "price_data.dropna(inplace=True)\n",
    "\n",
    "y= py.array(price_data['label'])\n",
    "\n",
    "print(\"X:\",len(X))\n",
    "print(\"Y:\",len(y))\n",
    "X_train, X_test, y_train, y_test = train_test_split(X, y, test_size=0.2)"
   ]
  },
  {
   "cell_type": "code",
   "execution_count": 6,
   "metadata": {},
   "outputs": [
    {
     "name": "stdout",
     "output_type": "stream",
     "text": [
      "0.962299982333\n"
     ]
    }
   ],
   "source": [
    "clf = LinearRegression(n_jobs=-1) #use classifier as Linear Regression \n",
    "clf.fit(X_train, y_train)\n",
    "accuracy = clf.score(X_test,y_test)\n",
    "print(accuracy)\n"
   ]
  },
  {
   "cell_type": "code",
   "execution_count": 7,
   "metadata": {},
   "outputs": [
    {
     "name": "stdout",
     "output_type": "stream",
     "text": [
      "18\n",
      "18\n",
      "Last_Date: 29-01-2010\n",
      "tail:            date symbol  open  close  low  high  volume  label   Forecast\n",
      "26-01-2010  NaN    NaN   NaN    NaN  NaN   NaN     NaN    NaN  153.57574\n",
      "27-01-2010  NaN    NaN   NaN    NaN  NaN   NaN     NaN    NaN  154.57574\n",
      "28-01-2010  NaN    NaN   NaN    NaN  NaN   NaN     NaN    NaN  155.57574\n",
      "29-01-2010  NaN    NaN   NaN    NaN  NaN   NaN     NaN    NaN  156.57574\n",
      "01-02-2010  NaN    NaN   NaN    NaN  NaN   NaN     NaN    NaN  157.57574\n",
      "1763\n",
      "349\n",
      "349\n"
     ]
    },
    {
     "data": {
      "image/png": "[encoded data removed]",
      "text/plain": [
       "<matplotlib.figure.Figure at 0x157c4086cf8>"
      ]
     },
     "metadata": {},
     "output_type": "display_data"
    }
   ],
   "source": [
    "forecast_set = clf.predict(X_lately)\n",
    "\n",
    "length_x_lately = len(X_lately)\n",
    "print(length_x_lately)\n",
    "print(len(forecast_set))\n",
    "price_data['Forecast'] = py.nan\n",
    "last_date = price_data.iloc[length_x_lately].date\n",
    "        \n",
    "\n",
    "print(\"Last_Date:\",last_date)\n",
    "hours = 24\n",
    "i=forecast_set[0]\n",
    "for next1 in range(1,length_x_lately+2):\n",
    "        next_date = price_data.iloc[next1].date\n",
    "        price_data.loc[next_date,'Forecast'] = i\n",
    "        i=i+1\n",
    "\n",
    "print(\"tail:\",price_data.tail())\n",
    "print(len(price_data))\n",
    "\n",
    "print(len(X_test))\n",
    "print(len(y_test))\n",
    "\n",
    "price_data['close'].plot()\n",
    "price_data['Forecast'].plot()\n",
    "\n",
    "wl.xlabel('Name')\n",
    "wl.ylabel('Price')\n",
    "wl.show()\n",
    "\n"
   ]
  },
  {
   "cell_type": "code",
   "execution_count": null,
   "metadata": {
    "collapsed": true
   },
   "outputs": [],
   "source": []
  }
 ],
 "metadata": {
  "kernelspec": {
   "display_name": "Python 3",
   "language": "python",
   "name": "python3"
  },
  "language_info": {
   "codemirror_mode": {
    "name": "ipython",
    "version": 3
   },
   "file_extension": ".py",
   "mimetype": "text/x-python",
   "name": "python",
   "nbconvert_exporter": "python",
   "pygments_lexer": "ipython3",
   "version": "3.6.1"
  }
 },
 "nbformat": 4,
 "nbformat_minor": 2
}

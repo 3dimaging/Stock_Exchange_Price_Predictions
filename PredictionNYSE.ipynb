{
 "cells": [
  {
   "cell_type": "code",
   "execution_count": 53,
   "metadata": {},
   "outputs": [],
   "source": [
    "import pandas as pd\n",
    "import math\n",
    "import numpy as py\n",
    "from sklearn import preprocessing\n",
    "from sklearn.linear_model import LinearRegression \n",
    "from sklearn.model_selection import train_test_split\n",
    "from datetime import datetime as d\n",
    "import matplotlib.pyplot as wl\n",
    "from matplotlib import style"
   ]
  },
  {
   "cell_type": "code",
   "execution_count": 54,
   "metadata": {},
   "outputs": [
    {
     "data": {
      "text/html": [
       "<div>\n",
       "<style>\n",
       "    .dataframe thead tr:only-child th {\n",
       "        text-align: right;\n",
       "    }\n",
       "\n",
       "    .dataframe thead th {\n",
       "        text-align: left;\n",
       "    }\n",
       "\n",
       "    .dataframe tbody tr th {\n",
       "        vertical-align: top;\n",
       "    }\n",
       "</style>\n",
       "<table border=\"1\" class=\"dataframe\">\n",
       "  <thead>\n",
       "    <tr style=\"text-align: right;\">\n",
       "      <th></th>\n",
       "      <th>date</th>\n",
       "      <th>symbol</th>\n",
       "      <th>open</th>\n",
       "      <th>close</th>\n",
       "      <th>low</th>\n",
       "      <th>high</th>\n",
       "      <th>volume</th>\n",
       "    </tr>\n",
       "  </thead>\n",
       "  <tbody>\n",
       "    <tr>\n",
       "      <th>0</th>\n",
       "      <td>04-01-2010</td>\n",
       "      <td>A</td>\n",
       "      <td>22.453504</td>\n",
       "      <td>22.389128</td>\n",
       "      <td>22.267525</td>\n",
       "      <td>22.625180</td>\n",
       "      <td>3815500</td>\n",
       "    </tr>\n",
       "    <tr>\n",
       "      <th>1</th>\n",
       "      <td>05-01-2010</td>\n",
       "      <td>A</td>\n",
       "      <td>22.324749</td>\n",
       "      <td>22.145923</td>\n",
       "      <td>22.002861</td>\n",
       "      <td>22.331903</td>\n",
       "      <td>4186000</td>\n",
       "    </tr>\n",
       "    <tr>\n",
       "      <th>2</th>\n",
       "      <td>06-01-2010</td>\n",
       "      <td>A</td>\n",
       "      <td>22.067240</td>\n",
       "      <td>22.067240</td>\n",
       "      <td>22.002861</td>\n",
       "      <td>22.174536</td>\n",
       "      <td>3243700</td>\n",
       "    </tr>\n",
       "    <tr>\n",
       "      <th>3</th>\n",
       "      <td>07-01-2010</td>\n",
       "      <td>A</td>\n",
       "      <td>22.017168</td>\n",
       "      <td>22.038626</td>\n",
       "      <td>21.816881</td>\n",
       "      <td>22.045780</td>\n",
       "      <td>3095100</td>\n",
       "    </tr>\n",
       "    <tr>\n",
       "      <th>4</th>\n",
       "      <td>08-01-2010</td>\n",
       "      <td>A</td>\n",
       "      <td>21.917024</td>\n",
       "      <td>22.031474</td>\n",
       "      <td>21.745350</td>\n",
       "      <td>22.067240</td>\n",
       "      <td>3733900</td>\n",
       "    </tr>\n",
       "  </tbody>\n",
       "</table>\n",
       "</div>"
      ],
      "text/plain": [
       "         date symbol       open      close        low       high   volume\n",
       "0  04-01-2010      A  22.453504  22.389128  22.267525  22.625180  3815500\n",
       "1  05-01-2010      A  22.324749  22.145923  22.002861  22.331903  4186000\n",
       "2  06-01-2010      A  22.067240  22.067240  22.002861  22.174536  3243700\n",
       "3  07-01-2010      A  22.017168  22.038626  21.816881  22.045780  3095100\n",
       "4  08-01-2010      A  21.917024  22.031474  21.745350  22.067240  3733900"
      ]
     },
     "execution_count": 54,
     "metadata": {},
     "output_type": "execute_result"
    }
   ],
   "source": [
    "price_data=pd.read_csv('F:/Final_Project/Course_Study/Time_series_dataset/prices.csv') \n",
    "price_data.head()"
   ]
  },
  {
   "cell_type": "code",
   "execution_count": 4,
   "metadata": {
    "collapsed": true
   },
   "outputs": [],
   "source": [
    "#df1=df.loc[:,('date','close', 'open','high','volume')] \n",
    "\n",
    "#dfmi['one'] selects the first level of the columns and returns a DataFrame that is singly-indexed. Then another python operation dfmi_with_one['second'] selects the series indexed by 'second' happens. This is indicated by the variable dfmi_with_one because pandas sees these operations as separate events. e.g. separate calls to __getitem__, so it has to treat them as linear operations, they happen one after another.\n",
    "\n",
    "#Contrast this to df.loc[:,('one','second')] which passes a nested tuple of (slice(None),('one','second')) to a single call to __getitem__. This allows pandas to deal with this as a single entity. Furthermore this order of operations can be significantly faster, and allows one to index both axes if so desired."
   ]
  },
  {
   "cell_type": "code",
   "execution_count": 5,
   "metadata": {
    "collapsed": true
   },
   "outputs": [],
   "source": [
    "#df1['HL_PCT']= (df['high']-df['close'])/df['close'] * 100.0 #Calculate High-Low Percentage\n",
    "#df1['PCT_change']= (df['close']-df['open'])/df['open'] * 100.0 #Calculate Percent change "
   ]
  },
  {
   "cell_type": "code",
   "execution_count": 6,
   "metadata": {
    "collapsed": true
   },
   "outputs": [],
   "source": [
    "#df2=df1.loc[:,('date','close','HL_PCT','PCT_change','volume')] #features "
   ]
  },
  {
   "cell_type": "code",
   "execution_count": 57,
   "metadata": {},
   "outputs": [
    {
     "name": "stdout",
     "output_type": "stream",
     "text": [
      "             date symbol       open      close        low       high  volume\n",
      "54654  04-01-2010    AMG  67.959999  68.879997  67.879997  69.059998  306100\n",
      "54655  05-01-2010    AMG  68.779999  69.430000  68.269997  69.500000  324600\n",
      "54656  06-01-2010    AMG  69.209999  70.790001  69.209999  71.470001  486200\n",
      "54657  07-01-2010    AMG  70.449997  70.470001  69.970001  71.040001  434000\n",
      "54658  08-01-2010    AMG  70.040001  69.820000  69.309998  70.690002  382800\n"
     ]
    }
   ],
   "source": [
    "price_data=price_data.loc[price_data['symbol'] == 'AMG']\n",
    "print(price_data.head())"
   ]
  },
  {
   "cell_type": "code",
   "execution_count": 59,
   "metadata": {
    "scrolled": false
   },
   "outputs": [
    {
     "name": "stdout",
     "output_type": "stream",
     "text": [
      "18\n"
     ]
    }
   ],
   "source": [
    "'''forecast_col = 'close' #Create a forecast on the close column. This is just a variable.\n",
    "df1.fillna(-9999, inplace=True) #Replace NaN data with this value rather than getting rid of the data\n",
    "\n",
    "forecast_out= int(math.ceil(0.01* len(df1))) #we want to forecast tomorrow's value. That's why use 0.01. Use Math lib\n",
    "print(forecast_out)\n",
    "\n",
    "df2['label']=df1[forecast_col].shift(-forecast_out) #each label will shift by 1 upwards so that close value will be a future value\n",
    "df2.head()'''\n",
    "\n",
    "forecast_col = 'close'\n",
    "df.fillna(value=-99999, inplace=True)\n",
    "forecast_out = int(math.ceil(0.01 * len(price_data)))\n",
    "print(forecast_out)\n",
    "df['label'] = df[forecast_col].shift(-forecast_out)"
   ]
  },
  {
   "cell_type": "code",
   "execution_count": 60,
   "metadata": {},
   "outputs": [
    {
     "name": "stdout",
     "output_type": "stream",
     "text": [
      "        date symbol       open      close        low       high   volume  \\\n",
      "0 2010-01-04      A  31.389999  31.300001  31.130000  31.630001  3815500   \n",
      "1 2010-01-05      A  31.209999  30.960001  30.760000  31.220001  4186000   \n",
      "2 2010-01-06      A  30.850001  30.850001  30.760000  31.000001  3243700   \n",
      "3 2010-01-07      A  30.780001  30.809999  30.500000  30.820001  3095100   \n",
      "4 2010-01-08      A  30.640000  30.800000  30.399999  30.850001  3733900   \n",
      "\n",
      "       label  \n",
      "0  28.030000  \n",
      "1  29.130001  \n",
      "2  29.500000  \n",
      "3  29.540000  \n",
      "4  29.070000  \n"
     ]
    }
   ],
   "source": [
    "#df2.dropna(inplace=True)\n",
    "print(df.head())"
   ]
  },
  {
   "cell_type": "code",
   "execution_count": 42,
   "metadata": {},
   "outputs": [
    {
     "name": "stdout",
     "output_type": "stream",
     "text": [
      "x:  [[ 0.21957701  0.35158842  0.2438502   0.33902312  0.57003893]\n",
      " [ 0.333439    0.32609131  0.33003463  0.3135814   0.09418217]\n",
      " [ 0.31949692  0.28900494  0.3207176   0.31589428 -0.20978824]\n",
      " ..., \n",
      " [ 1.58359974  1.62643234  1.55292517  1.64811528 -0.76520107]\n",
      " [ 1.75323099  1.80027469  1.78119853  1.77763653 -0.61862083]\n",
      " [ 1.80667699  1.81418185  1.80915008  1.81001736 -0.73690657]]\n"
     ]
    },
    {
     "ename": "ValueError",
     "evalue": "Found input variables with inconsistent numbers of samples: [1726, 1744]",
     "output_type": "error",
     "traceback": [
      "\u001b[1;31m---------------------------------------------------------------------------\u001b[0m",
      "\u001b[1;31mValueError\u001b[0m                                Traceback (most recent call last)",
      "\u001b[1;32m<ipython-input-42-2274b82460b1>\u001b[0m in \u001b[0;36m<module>\u001b[1;34m()\u001b[0m\n\u001b[0;32m     19\u001b[0m \u001b[0my\u001b[0m \u001b[1;33m=\u001b[0m \u001b[0mpy\u001b[0m\u001b[1;33m.\u001b[0m\u001b[0marray\u001b[0m\u001b[1;33m(\u001b[0m\u001b[0my\u001b[0m\u001b[1;33m)\u001b[0m\u001b[1;33m\u001b[0m\u001b[0m\n\u001b[0;32m     20\u001b[0m \u001b[1;33m\u001b[0m\u001b[0m\n\u001b[1;32m---> 21\u001b[1;33m \u001b[0mX_train\u001b[0m\u001b[1;33m,\u001b[0m \u001b[0mX_test\u001b[0m\u001b[1;33m,\u001b[0m \u001b[0my_train\u001b[0m\u001b[1;33m,\u001b[0m \u001b[0my_test\u001b[0m \u001b[1;33m=\u001b[0m \u001b[0mtrain_test_split\u001b[0m\u001b[1;33m(\u001b[0m\u001b[0mX\u001b[0m\u001b[1;33m,\u001b[0m \u001b[0my\u001b[0m\u001b[1;33m,\u001b[0m \u001b[0mtest_size\u001b[0m\u001b[1;33m=\u001b[0m\u001b[1;36m0.2\u001b[0m\u001b[1;33m)\u001b[0m\u001b[1;33m\u001b[0m\u001b[0m\n\u001b[0m",
      "\u001b[1;32m~\\Anaconda3\\lib\\site-packages\\sklearn\\model_selection\\_split.py\u001b[0m in \u001b[0;36mtrain_test_split\u001b[1;34m(*arrays, **options)\u001b[0m\n\u001b[0;32m   1687\u001b[0m         \u001b[0mtest_size\u001b[0m \u001b[1;33m=\u001b[0m \u001b[1;36m0.25\u001b[0m\u001b[1;33m\u001b[0m\u001b[0m\n\u001b[0;32m   1688\u001b[0m \u001b[1;33m\u001b[0m\u001b[0m\n\u001b[1;32m-> 1689\u001b[1;33m     \u001b[0marrays\u001b[0m \u001b[1;33m=\u001b[0m \u001b[0mindexable\u001b[0m\u001b[1;33m(\u001b[0m\u001b[1;33m*\u001b[0m\u001b[0marrays\u001b[0m\u001b[1;33m)\u001b[0m\u001b[1;33m\u001b[0m\u001b[0m\n\u001b[0m\u001b[0;32m   1690\u001b[0m \u001b[1;33m\u001b[0m\u001b[0m\n\u001b[0;32m   1691\u001b[0m     \u001b[1;32mif\u001b[0m \u001b[0mstratify\u001b[0m \u001b[1;32mis\u001b[0m \u001b[1;32mnot\u001b[0m \u001b[1;32mNone\u001b[0m\u001b[1;33m:\u001b[0m\u001b[1;33m\u001b[0m\u001b[0m\n",
      "\u001b[1;32m~\\Anaconda3\\lib\\site-packages\\sklearn\\utils\\validation.py\u001b[0m in \u001b[0;36mindexable\u001b[1;34m(*iterables)\u001b[0m\n\u001b[0;32m    204\u001b[0m         \u001b[1;32melse\u001b[0m\u001b[1;33m:\u001b[0m\u001b[1;33m\u001b[0m\u001b[0m\n\u001b[0;32m    205\u001b[0m             \u001b[0mresult\u001b[0m\u001b[1;33m.\u001b[0m\u001b[0mappend\u001b[0m\u001b[1;33m(\u001b[0m\u001b[0mnp\u001b[0m\u001b[1;33m.\u001b[0m\u001b[0marray\u001b[0m\u001b[1;33m(\u001b[0m\u001b[0mX\u001b[0m\u001b[1;33m)\u001b[0m\u001b[1;33m)\u001b[0m\u001b[1;33m\u001b[0m\u001b[0m\n\u001b[1;32m--> 206\u001b[1;33m     \u001b[0mcheck_consistent_length\u001b[0m\u001b[1;33m(\u001b[0m\u001b[1;33m*\u001b[0m\u001b[0mresult\u001b[0m\u001b[1;33m)\u001b[0m\u001b[1;33m\u001b[0m\u001b[0m\n\u001b[0m\u001b[0;32m    207\u001b[0m     \u001b[1;32mreturn\u001b[0m \u001b[0mresult\u001b[0m\u001b[1;33m\u001b[0m\u001b[0m\n\u001b[0;32m    208\u001b[0m \u001b[1;33m\u001b[0m\u001b[0m\n",
      "\u001b[1;32m~\\Anaconda3\\lib\\site-packages\\sklearn\\utils\\validation.py\u001b[0m in \u001b[0;36mcheck_consistent_length\u001b[1;34m(*arrays)\u001b[0m\n\u001b[0;32m    179\u001b[0m     \u001b[1;32mif\u001b[0m \u001b[0mlen\u001b[0m\u001b[1;33m(\u001b[0m\u001b[0muniques\u001b[0m\u001b[1;33m)\u001b[0m \u001b[1;33m>\u001b[0m \u001b[1;36m1\u001b[0m\u001b[1;33m:\u001b[0m\u001b[1;33m\u001b[0m\u001b[0m\n\u001b[0;32m    180\u001b[0m         raise ValueError(\"Found input variables with inconsistent numbers of\"\n\u001b[1;32m--> 181\u001b[1;33m                          \" samples: %r\" % [int(l) for l in lengths])\n\u001b[0m\u001b[0;32m    182\u001b[0m \u001b[1;33m\u001b[0m\u001b[0m\n\u001b[0;32m    183\u001b[0m \u001b[1;33m\u001b[0m\u001b[0m\n",
      "\u001b[1;31mValueError\u001b[0m: Found input variables with inconsistent numbers of samples: [1726, 1744]"
     ]
    }
   ],
   "source": [
    "'''X= np.array(df2.drop(['label','date','symbol'],1)) #X = features \n",
    "X= preprocessing.scale(X)\n",
    "X_lately = X[-forecast_out:]\n",
    "X = X[:-forecast_out]\n",
    "df.dropna(inplace=True)'''\n",
    "#X = np.array(df.drop(['label'], 1))\n",
    "\n",
    "#X=np.array(df.drop(['label','symbol','date'],axis=1))\n",
    "#X=df.drop(['label','symbol','date'],1)\n",
    "X=py.array(df.drop(['label','symbol','date'],axis=1))\n",
    "X = preprocessing.scale(X)\n",
    "X = X[:-forecast_out]\n",
    "print(\"x: \",X)\n",
    "X_t = X[-forecast_out:]\n",
    "df.dropna(inplace = True)\n",
    "#print(\"X_lately: \",X_lately)\n",
    "y =df['label']\n",
    "#y.dropna(inplace=True)\n",
    "y = py.array(y)\n",
    "\n",
    "X_train, X_test, y_train, y_test = train_test_split(X, y, test_size=0.2)"
   ]
  },
  {
   "cell_type": "code",
   "execution_count": 70,
   "metadata": {
    "collapsed": true
   },
   "outputs": [],
   "source": [
    "#y= np.array(df2['label'])"
   ]
  },
  {
   "cell_type": "code",
   "execution_count": 71,
   "metadata": {
    "collapsed": true
   },
   "outputs": [],
   "source": [
    "#print(len(X), len(y))"
   ]
  },
  {
   "cell_type": "code",
   "execution_count": 13,
   "metadata": {},
   "outputs": [
    {
     "name": "stdout",
     "output_type": "stream",
     "text": [
      "[ 31.04250859  31.10294044  31.07159852  31.09607037  31.42341153\n",
      "  31.29232218  29.40110035  29.82547435  29.78385035  29.66569796\n",
      "  29.48602852  29.88833828  29.6137481   29.60927557  29.49686174\n",
      "  29.32587464  29.11172647  29.2385852 ]\n",
      "0.873641129741\n"
     ]
    }
   ],
   "source": [
    "#X_train, X_test, y_train, y_test = cross_validation.train_test_split(X,y,test_size=0.2)\n",
    "#X_train, X_test, y_train, y_test = train_test_split(X,y)  #split data into test and train\n",
    "clf = LinearRegression() #use classifier as Linear Regression \n",
    "clf.fit(X_train, y_train)\n",
    "forecast_set = clf.predict(X_test)\n",
    "print(forecast_set)\n",
    "accuracy =clf.score(, y_test)\n",
    "print(accuracy)\n"
   ]
  },
  {
   "cell_type": "code",
   "execution_count": 73,
   "metadata": {},
   "outputs": [
    {
     "name": "stdout",
     "output_type": "stream",
     "text": [
      "[ 28.55927011  28.29597389  28.57457671  28.51334414  28.58399728\n",
      "  28.44840825  28.47282885  28.75780974  27.85858487  27.16954627\n",
      "  27.45212075  27.99964935  28.5224899   28.46746629  28.005529\n",
      "  28.53576476  28.37600022]\n",
      "193365\n",
      "2016-07-07 00:00:00\n",
      "l: 2016-07-07\n"
     ]
    },
    {
     "ename": "ValueError",
     "evalue": "invalid literal for int() with base 10: '2016-07-07'",
     "output_type": "error",
     "traceback": [
      "\u001b[1;31m---------------------------------------------------------------------------\u001b[0m",
      "\u001b[1;31mValueError\u001b[0m                                Traceback (most recent call last)",
      "\u001b[1;32m<ipython-input-73-12d7e341ad10>\u001b[0m in \u001b[0;36m<module>\u001b[1;34m()\u001b[0m\n\u001b[0;32m     13\u001b[0m \u001b[0mprint\u001b[0m\u001b[1;33m(\u001b[0m\u001b[1;34m\"l:\"\u001b[0m\u001b[1;33m,\u001b[0m\u001b[0mlast_date2\u001b[0m\u001b[1;33m)\u001b[0m\u001b[1;33m\u001b[0m\u001b[0m\n\u001b[0;32m     14\u001b[0m \u001b[0mx_1\u001b[0m \u001b[1;33m=\u001b[0m \u001b[0mstr\u001b[0m\u001b[1;33m(\u001b[0m\u001b[0mlast_date2\u001b[0m\u001b[1;33m)\u001b[0m\u001b[1;33m\u001b[0m\u001b[0m\n\u001b[1;32m---> 15\u001b[1;33m \u001b[0mx_label\u001b[0m \u001b[1;33m=\u001b[0m \u001b[0mint\u001b[0m\u001b[1;33m(\u001b[0m\u001b[0mx_1\u001b[0m\u001b[1;33m)\u001b[0m\u001b[1;33m\u001b[0m\u001b[0m\n\u001b[0m\u001b[0;32m     16\u001b[0m \u001b[0mlast_unix\u001b[0m \u001b[1;33m=\u001b[0m \u001b[0mlast_date\u001b[0m\u001b[1;33m.\u001b[0m\u001b[0mtimestamp\u001b[0m\u001b[1;33m(\u001b[0m\u001b[1;33m)\u001b[0m\u001b[1;33m\u001b[0m\u001b[0m\n\u001b[0;32m     17\u001b[0m \u001b[0mprint\u001b[0m\u001b[1;33m(\u001b[0m\u001b[1;34m\"last_unix: \"\u001b[0m\u001b[1;33m,\u001b[0m\u001b[0mlast_unix\u001b[0m\u001b[1;33m)\u001b[0m\u001b[1;33m\u001b[0m\u001b[0m\n",
      "\u001b[1;31mValueError\u001b[0m: invalid literal for int() with base 10: '2016-07-07'"
     ]
    }
   ],
   "source": [
    "#last_date=time.strptime(last_date, '%Y-%m-%d %H:%M:%S')\n",
    "\n",
    "\n",
    "df['Forecast'] = np.nan\n",
    "last_date = df.iloc[-1].date\n",
    "last_date1= df.iloc[-1].name\n",
    "print(last_date1)\n",
    "print(last_date)\n",
    "last_date_str=str(last_date)\n",
    "last_date=d.strptime(last_date_str, '%Y-%m-%d %H:%M:%S')\n",
    "last_date2= dt.date(last_date)\n",
    "print(\"l:\",last_date2)\n",
    "x_1 = str(last_date2)\n",
    "#x_label = int(x_1)\n",
    "last_unix = last_date.timestamp()\n",
    "print(\"last_unix: \",last_unix)\n",
    "one_day = 86400\n",
    "#one_day_seconds\n",
    "next_unix = last_unix + one_day\n",
    "\n",
    "for i in forecast_set:\n",
    "    next_date = dt.fromtimestamp(next_unix)\n",
    "    next_unix += one_day\n",
    "    df.loc[next_date] = [py.nan for _ in range(len(df.columns)-1)]+[i]\n",
    "#print(df.tail())\n",
    "\n",
    "style.use('ggplot')\n",
    "df['close'].plot()\n",
    "df['Forecast'].plot()\n",
    "#wl.scatter()\n",
    "#ax.legend((line1,line2),('Actual','Predicted'))\n",
    "wl.xlabel('Date')\n",
    "wl.ylabel('Price')\n",
    "wl.show()"
   ]
  },
  {
   "cell_type": "code",
   "execution_count": null,
   "metadata": {
    "collapsed": true
   },
   "outputs": [],
   "source": []
  }
 ],
 "metadata": {
  "kernelspec": {
   "display_name": "Python 3",
   "language": "python",
   "name": "python3"
  },
  "language_info": {
   "codemirror_mode": {
    "name": "ipython",
    "version": 3
   },
   "file_extension": ".py",
   "mimetype": "text/x-python",
   "name": "python",
   "nbconvert_exporter": "python",
   "pygments_lexer": "ipython3",
   "version": "3.6.1"
  }
 },
 "nbformat": 4,
 "nbformat_minor": 2
}
